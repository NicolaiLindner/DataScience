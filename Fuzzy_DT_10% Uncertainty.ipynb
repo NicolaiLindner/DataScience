{
 "cells": [
  {
   "cell_type": "code",
   "execution_count": 1,
   "id": "1026cf74-4ad7-40ed-b496-b41a3ceb0539",
   "metadata": {
    "editable": true,
    "slideshow": {
     "slide_type": ""
    },
    "tags": []
   },
   "outputs": [
    {
     "name": "stderr",
     "output_type": "stream",
     "text": [
      "WARNING (theano.link.c.cmodule): install mkl with `conda install mkl-service`: No module named 'mkl'\n",
      "WARNING (theano.tensor.blas): Using NumPy C-API based implementation for BLAS functions.\n"
     ]
    }
   ],
   "source": [
    "import pandas as pd\n",
    "from sklearn.impute import SimpleImputer\n",
    "from sklearn.preprocessing import OneHotEncoder\n",
    "from sklearn.compose import ColumnTransformer\n",
    "from sklearn.pipeline import Pipeline\n",
    "from sklearn.tree import DecisionTreeClassifier\n",
    "from sklearn.metrics import accuracy_score, confusion_matrix, classification_report, roc_auc_score, precision_score, recall_score, f1_score\n",
    "from tabulate import tabulate\n",
    "from sklearn.model_selection import train_test_split\n",
    "from sklearn.preprocessing import LabelEncoder\n",
    "import numpy as np\n",
    "from sklearn.tree import DecisionTreeClassifier\n",
    "from sklearn.metrics import accuracy_score\n",
    "from sklearn.model_selection import train_test_split\n",
    "from sklearn.experimental import enable_iterative_imputer\n",
    "from sklearn.impute import IterativeImputer\n",
    "import pymc3 as pm"
   ]
  },
  {
   "cell_type": "code",
   "execution_count": 2,
   "id": "21ab3bcd-dea0-4cf7-99ff-3355893c9e05",
   "metadata": {
    "editable": true,
    "slideshow": {
     "slide_type": ""
    },
    "tags": []
   },
   "outputs": [],
   "source": [
    "# Load the CSV file\n",
    "df = pd.read_csv(r'C:\\Programmieren\\Jupyter Lab\\Datasets\\adult.csv')"
   ]
  },
  {
   "cell_type": "code",
   "execution_count": 3,
   "id": "47192f5e-1ef6-492b-93e2-ccc0811d9132",
   "metadata": {
    "editable": true,
    "slideshow": {
     "slide_type": ""
    },
    "tags": []
   },
   "outputs": [
    {
     "data": {
      "text/html": [
       "<div>\n",
       "<style scoped>\n",
       "    .dataframe tbody tr th:only-of-type {\n",
       "        vertical-align: middle;\n",
       "    }\n",
       "\n",
       "    .dataframe tbody tr th {\n",
       "        vertical-align: top;\n",
       "    }\n",
       "\n",
       "    .dataframe thead th {\n",
       "        text-align: right;\n",
       "    }\n",
       "</style>\n",
       "<table border=\"1\" class=\"dataframe\">\n",
       "  <thead>\n",
       "    <tr style=\"text-align: right;\">\n",
       "      <th></th>\n",
       "      <th>age</th>\n",
       "      <th>workclass</th>\n",
       "      <th>fnlwgt</th>\n",
       "      <th>education</th>\n",
       "      <th>educational-num</th>\n",
       "      <th>marital-status</th>\n",
       "      <th>occupation</th>\n",
       "      <th>relationship</th>\n",
       "      <th>race</th>\n",
       "      <th>gender</th>\n",
       "      <th>capital-gain</th>\n",
       "      <th>capital-loss</th>\n",
       "      <th>hours-per-week</th>\n",
       "      <th>native-country</th>\n",
       "      <th>income</th>\n",
       "    </tr>\n",
       "  </thead>\n",
       "  <tbody>\n",
       "    <tr>\n",
       "      <th>0</th>\n",
       "      <td>25</td>\n",
       "      <td>4</td>\n",
       "      <td>226802</td>\n",
       "      <td>1</td>\n",
       "      <td>7</td>\n",
       "      <td>4</td>\n",
       "      <td>7</td>\n",
       "      <td>3</td>\n",
       "      <td>2</td>\n",
       "      <td>1</td>\n",
       "      <td>0</td>\n",
       "      <td>0</td>\n",
       "      <td>40</td>\n",
       "      <td>39</td>\n",
       "      <td>0</td>\n",
       "    </tr>\n",
       "    <tr>\n",
       "      <th>1</th>\n",
       "      <td>38</td>\n",
       "      <td>4</td>\n",
       "      <td>89814</td>\n",
       "      <td>11</td>\n",
       "      <td>9</td>\n",
       "      <td>2</td>\n",
       "      <td>5</td>\n",
       "      <td>0</td>\n",
       "      <td>4</td>\n",
       "      <td>1</td>\n",
       "      <td>0</td>\n",
       "      <td>0</td>\n",
       "      <td>50</td>\n",
       "      <td>39</td>\n",
       "      <td>0</td>\n",
       "    </tr>\n",
       "    <tr>\n",
       "      <th>2</th>\n",
       "      <td>28</td>\n",
       "      <td>2</td>\n",
       "      <td>336951</td>\n",
       "      <td>7</td>\n",
       "      <td>12</td>\n",
       "      <td>2</td>\n",
       "      <td>11</td>\n",
       "      <td>0</td>\n",
       "      <td>4</td>\n",
       "      <td>1</td>\n",
       "      <td>0</td>\n",
       "      <td>0</td>\n",
       "      <td>40</td>\n",
       "      <td>39</td>\n",
       "      <td>1</td>\n",
       "    </tr>\n",
       "    <tr>\n",
       "      <th>3</th>\n",
       "      <td>44</td>\n",
       "      <td>4</td>\n",
       "      <td>160323</td>\n",
       "      <td>15</td>\n",
       "      <td>10</td>\n",
       "      <td>2</td>\n",
       "      <td>7</td>\n",
       "      <td>0</td>\n",
       "      <td>2</td>\n",
       "      <td>1</td>\n",
       "      <td>7688</td>\n",
       "      <td>0</td>\n",
       "      <td>40</td>\n",
       "      <td>39</td>\n",
       "      <td>1</td>\n",
       "    </tr>\n",
       "    <tr>\n",
       "      <th>4</th>\n",
       "      <td>18</td>\n",
       "      <td>0</td>\n",
       "      <td>103497</td>\n",
       "      <td>15</td>\n",
       "      <td>10</td>\n",
       "      <td>4</td>\n",
       "      <td>0</td>\n",
       "      <td>3</td>\n",
       "      <td>4</td>\n",
       "      <td>0</td>\n",
       "      <td>0</td>\n",
       "      <td>0</td>\n",
       "      <td>30</td>\n",
       "      <td>39</td>\n",
       "      <td>0</td>\n",
       "    </tr>\n",
       "  </tbody>\n",
       "</table>\n",
       "</div>"
      ],
      "text/plain": [
       "   age  workclass  fnlwgt  education  educational-num  marital-status  \\\n",
       "0   25          4  226802          1                7               4   \n",
       "1   38          4   89814         11                9               2   \n",
       "2   28          2  336951          7               12               2   \n",
       "3   44          4  160323         15               10               2   \n",
       "4   18          0  103497         15               10               4   \n",
       "\n",
       "   occupation  relationship  race  gender  capital-gain  capital-loss  \\\n",
       "0           7             3     2       1             0             0   \n",
       "1           5             0     4       1             0             0   \n",
       "2          11             0     4       1             0             0   \n",
       "3           7             0     2       1          7688             0   \n",
       "4           0             3     4       0             0             0   \n",
       "\n",
       "   hours-per-week  native-country  income  \n",
       "0              40              39       0  \n",
       "1              50              39       0  \n",
       "2              40              39       1  \n",
       "3              40              39       1  \n",
       "4              30              39       0  "
      ]
     },
     "execution_count": 3,
     "metadata": {},
     "output_type": "execute_result"
    }
   ],
   "source": [
    "# Create a LabelEncoder object\n",
    "le = LabelEncoder()\n",
    "\n",
    "# List of attributes to encode\n",
    "attributes_to_encode = ['workclass', 'education', 'marital-status', 'occupation', 'relationship', 'race', 'gender', 'native-country', 'income']\n",
    "\n",
    "# Apply the encoder to each attribute\n",
    "for attribute in attributes_to_encode:\n",
    "    df[attribute] = le.fit_transform(df[attribute])\n",
    "\n",
    "# Display the DataFrame\n",
    "df.head()"
   ]
  },
  {
   "cell_type": "code",
   "execution_count": 4,
   "id": "31b538f5-a9bd-4fa3-9671-36c4399da0be",
   "metadata": {
    "editable": true,
    "slideshow": {
     "slide_type": ""
    },
    "tags": []
   },
   "outputs": [],
   "source": [
    "# Defining the uncertain features\n",
    "uncertain_features = ['age', 'workclass', 'fnlwgt', 'education', 'educational-num', 'marital-status', 'occupation',\n",
    "                      'relationship', 'capital-gain', 'capital-loss', 'hours-per-week']\n",
    "\n",
    "# List of thresholds\n",
    "thresholds = [0.05, 0.1, 0.2, 0.3, 0.4, 0.5, 0.6, 0.7, 0.8, 0.9]\n",
    "\n",
    "# A dictionary to store the modified dataframes\n",
    "modified_dfs = {}\n",
    "\n",
    "# Inserting missing values\n",
    "for thresh in thresholds:\n",
    "    # Create a copy of the original dataframe\n",
    "    df_copy = df.copy()\n",
    "    \n",
    "    # For each uncertain feature, set a proportion of the data to NaN at random\n",
    "    for feature in uncertain_features:\n",
    "        # Find the number of entries to set to NaN\n",
    "        num_nan = int(thresh * len(df_copy[feature]))\n",
    "        \n",
    "        # Generate random indices for NaN insertion\n",
    "        nan_indices = np.random.choice(df_copy.index, num_nan, replace=False)\n",
    "        \n",
    "        # Insert NaNs\n",
    "        df_copy.loc[nan_indices, feature] = np.nan\n",
    "    \n",
    "    # Store the modified dataframe in the dictionary\n",
    "    modified_dfs[f\"df_{int(thresh*100)}\"] = df_copy"
   ]
  },
  {
   "cell_type": "code",
   "execution_count": 5,
   "id": "9cc9c283-9b82-4699-b9ab-bf562551d189",
   "metadata": {
    "editable": true,
    "slideshow": {
     "slide_type": ""
    },
    "tags": []
   },
   "outputs": [],
   "source": [
    "df_90 = modified_dfs[\"df_90\"]"
   ]
  },
  {
   "cell_type": "markdown",
   "id": "145e7e31-d097-438a-969b-8ff66920cffb",
   "metadata": {},
   "source": [
    "# Categorization"
   ]
  },
  {
   "cell_type": "code",
   "execution_count": 6,
   "id": "a6020ffe-e460-4b12-afe2-b278daf0a642",
   "metadata": {
    "editable": true,
    "slideshow": {
     "slide_type": ""
    },
    "tags": []
   },
   "outputs": [
    {
     "name": "stdout",
     "output_type": "stream",
     "text": [
      "Best Number of Bins: 4\n",
      "Best Accuracy: 0.9926297471593817\n"
     ]
    }
   ],
   "source": [
    "# Perform imputation using IterativeImputer\n",
    "imputer = IterativeImputer(random_state=42)\n",
    "df_imputed = pd.DataFrame(imputer.fit_transform(df_90), columns=df_90.columns)\n",
    "\n",
    "# Remove missing values from all columns in the imputed DataFrame\n",
    "df_imputed_cleaned = df_imputed.dropna()\n",
    "\n",
    "# Check if the DataFrame has any remaining rows\n",
    "if df_imputed_cleaned.shape[0] < 1:\n",
    "    print(\"Insufficient data points after imputation and dropping missing values.\")\n",
    "else:\n",
    "    # Splitting the data into features (X) and target (y)\n",
    "    X = df_imputed_cleaned.drop(columns=['income'])  # Remove 'income' if it exists\n",
    "    y = df_imputed_cleaned['income']\n",
    "\n",
    "    best_accuracy = 0.0\n",
    "    best_bins = None\n",
    "\n",
    "    # Iterate over different numbers of bins\n",
    "    for num_bins in range(4, 41):\n",
    "        # Perform quantile binning on the 'age' variable\n",
    "        df_imputed_cleaned['age_category'] = pd.qcut(df_imputed_cleaned['age'], q=num_bins, labels=False, duplicates='drop')\n",
    "\n",
    "        # Splitting the binned data into training and testing sets\n",
    "        X_train, X_test, y_train, y_test = train_test_split(X, y, test_size=0.2, random_state=42)\n",
    "\n",
    "        # Build a decision tree classifier\n",
    "        clf = DecisionTreeClassifier(random_state=42)\n",
    "        clf.fit(X_train, y_train)\n",
    "\n",
    "        # Evaluate the decision tree's performance\n",
    "        y_pred = clf.predict(X_test)\n",
    "        accuracy = accuracy_score(y_test, y_pred)\n",
    "\n",
    "        # Update the best bins if the accuracy is higher\n",
    "        if accuracy > best_accuracy:\n",
    "            best_accuracy = accuracy\n",
    "            best_bins = num_bins\n",
    "\n",
    "    # The best number of bins and its corresponding accuracy\n",
    "    print(\"Best Number of Bins:\", best_bins)\n",
    "    print(\"Best Accuracy:\", best_accuracy)"
   ]
  },
  {
   "cell_type": "code",
   "execution_count": 7,
   "id": "f733d48b-093f-4daa-8300-2d8e70e833e4",
   "metadata": {},
   "outputs": [],
   "source": [
    "# Categorize age into 4 quantiles\n",
    "df_imputed_cleaned['age'] = pd.qcut(df_imputed_cleaned['age'], q=4, labels=False, duplicates='drop')"
   ]
  },
  {
   "cell_type": "code",
   "execution_count": 8,
   "id": "9bf7fa97-e15e-4380-9925-64b138754488",
   "metadata": {},
   "outputs": [
    {
     "name": "stdout",
     "output_type": "stream",
     "text": [
      "Best Number of Bins for fnlwgt: 4\n",
      "Best Accuracy for fnlwgt: 0.9926297471593817\n"
     ]
    }
   ],
   "source": [
    "# For fnlwgt\n",
    "\n",
    "# Perform imputation using IterativeImputer\n",
    "imputer = IterativeImputer(random_state=42)\n",
    "df_imputed = pd.DataFrame(imputer.fit_transform(df_90), columns=df_90.columns)\n",
    "\n",
    "# Remove missing values from all columns in the imputed DataFrame\n",
    "df_imputed_cleaned = df_imputed.dropna()\n",
    "\n",
    "# Check if the DataFrame has any remaining rows\n",
    "if df_imputed_cleaned.shape[0] < 1:\n",
    "    print(\"Insufficient data points after imputation and dropping missing values.\")\n",
    "else:\n",
    "    # Splitting the data into features (X) and target (y)\n",
    "    X = df_imputed_cleaned.drop(columns=['income'])  # Remove 'income' if it exists\n",
    "    y = df_imputed_cleaned['income']\n",
    "\n",
    "    best_accuracy = 0.0\n",
    "    best_bins = None\n",
    "\n",
    "    # Iterate over different numbers of bins\n",
    "    for num_bins in range(4, 41):\n",
    "        # Perform quantile binning on the 'fnlwgt' variable\n",
    "        df_imputed_cleaned['fnlwgt_category'] = pd.qcut(df_imputed_cleaned['fnlwgt'], q=num_bins, labels=False, duplicates='drop')\n",
    "\n",
    "        # Splitting the binned data into training and testing sets\n",
    "        X_train, X_test, y_train, y_test = train_test_split(X, y, test_size=0.2, random_state=42)\n",
    "\n",
    "        # Build a decision tree classifier\n",
    "        clf = DecisionTreeClassifier(random_state=42)\n",
    "        clf.fit(X_train, y_train)\n",
    "\n",
    "        # Evaluate the decision tree's performance\n",
    "        y_pred = clf.predict(X_test)\n",
    "        accuracy = accuracy_score(y_test, y_pred)\n",
    "\n",
    "        # Update the best bins if the accuracy is higher\n",
    "        if accuracy > best_accuracy:\n",
    "            best_accuracy = accuracy\n",
    "            best_bins = num_bins\n",
    "\n",
    "    # The best number of bins and its corresponding accuracy\n",
    "    print(\"Best Number of Bins for fnlwgt:\", best_bins)\n",
    "    print(\"Best Accuracy for fnlwgt:\", best_accuracy)"
   ]
  },
  {
   "cell_type": "code",
   "execution_count": 9,
   "id": "7218c2d4-2ee7-4c86-aa9d-acb06f62092b",
   "metadata": {},
   "outputs": [],
   "source": [
    "# Categorize fnlwgt into 4 quantiles\n",
    "df_90['fnlwgt'] = pd.qcut(df_90['fnlwgt'], q=4, labels=False, duplicates='drop')"
   ]
  },
  {
   "cell_type": "code",
   "execution_count": 10,
   "id": "0a00c6f9-9167-468a-915f-5135ad3efc68",
   "metadata": {},
   "outputs": [],
   "source": [
    "# Categorize capital-gain and capital-loss with domain knowledge\n",
    "df_90['capital-gain'] = df_90['capital-gain'].apply(lambda x: 0 if x == 0 else 1)\n",
    "df_90['capital-loss'] = df_90['capital-loss'].apply(lambda x: 0 if x == 0 else 1)"
   ]
  },
  {
   "cell_type": "code",
   "execution_count": 11,
   "id": "c79c500f-4101-48e2-ac2a-f6ec28d5b920",
   "metadata": {},
   "outputs": [
    {
     "data": {
      "text/plain": [
       "count    4885.00000\n",
       "mean       38.59652\n",
       "std        13.76627\n",
       "min        17.00000\n",
       "25%        27.00000\n",
       "50%        37.00000\n",
       "75%        48.00000\n",
       "max        90.00000\n",
       "Name: age, dtype: float64"
      ]
     },
     "execution_count": 11,
     "metadata": {},
     "output_type": "execute_result"
    }
   ],
   "source": [
    "df_90['age'].describe()"
   ]
  },
  {
   "cell_type": "code",
   "execution_count": 12,
   "id": "a9128e24-d9be-452d-87ff-07089bbd1c39",
   "metadata": {},
   "outputs": [],
   "source": [
    "# Categorize age with domain knowledge\n",
    "\n",
    "# Define the age categories\n",
    "age_bins = [17, 30, 40, 50, 60, 70, 90]\n",
    "age_labels = [1, 2, 3, 4, 5, 6]  # Assign labels for the categories\n",
    "\n",
    "# Categorize age\n",
    "df_90['age'] = pd.cut(df_90['age'], bins=age_bins, labels=age_labels, include_lowest=True)"
   ]
  },
  {
   "cell_type": "code",
   "execution_count": 13,
   "id": "f3988a17-038f-4823-9e51-fe575fbd5813",
   "metadata": {},
   "outputs": [
    {
     "data": {
      "text/plain": [
       "count     4885\n",
       "unique       6\n",
       "top          1\n",
       "freq      1590\n",
       "Name: age, dtype: int64"
      ]
     },
     "execution_count": 13,
     "metadata": {},
     "output_type": "execute_result"
    }
   ],
   "source": [
    "df_90['age'].describe()"
   ]
  },
  {
   "cell_type": "code",
   "execution_count": 14,
   "id": "4fac7a51-d0d8-4ddc-8748-bd96592062b3",
   "metadata": {},
   "outputs": [
    {
     "data": {
      "text/plain": [
       "count    4885.000000\n",
       "mean       40.657728\n",
       "std        12.641693\n",
       "min         1.000000\n",
       "25%        40.000000\n",
       "50%        40.000000\n",
       "75%        45.000000\n",
       "max        99.000000\n",
       "Name: hours-per-week, dtype: float64"
      ]
     },
     "execution_count": 14,
     "metadata": {},
     "output_type": "execute_result"
    }
   ],
   "source": [
    "df_90['hours-per-week'].describe()"
   ]
  },
  {
   "cell_type": "code",
   "execution_count": 15,
   "id": "1d0c9d66-8cef-47b2-86ef-07ea6db7fb99",
   "metadata": {},
   "outputs": [],
   "source": [
    "df_90['hours-per-week'] = pd.cut(df_90['hours-per-week'], bins=[0, 20, 30, 40, 50, 100], labels=[1, 2, 3, 4, 5], right=False)"
   ]
  },
  {
   "cell_type": "code",
   "execution_count": 16,
   "id": "8c1b094b-3f8f-4cc3-8f40-01a07b0a3437",
   "metadata": {},
   "outputs": [],
   "source": [
    "# Select the columns to be one-hot encoded (excluding 'income')\n",
    "columns_to_encode = df_90.columns[df_90.columns != 'income']\n",
    "\n",
    "# Perform one-hot encoding for each selected column\n",
    "encoded_columns = []\n",
    "for column in columns_to_encode:\n",
    "    encoded = pd.get_dummies(df_90[column], dummy_na=True, prefix=column)\n",
    "    encoded_columns.append(encoded)\n",
    "\n",
    "# Concatenate the encoded columns with the original DataFrame\n",
    "df_encoded = pd.concat([df_90.drop(columns=columns_to_encode), *encoded_columns], axis=1)"
   ]
  },
  {
   "cell_type": "code",
   "execution_count": 17,
   "id": "aeb6627e-2c0e-4a91-90d0-a9b562b7eb48",
   "metadata": {},
   "outputs": [],
   "source": [
    "# Convert boolean values to 0/1 in the encoded DataFrame\n",
    "df_encoded = df_encoded.astype(int)"
   ]
  },
  {
   "cell_type": "code",
   "execution_count": 18,
   "id": "b0b9a5cc-d923-47fd-a4e6-8f6268e9112e",
   "metadata": {},
   "outputs": [
    {
     "data": {
      "text/html": [
       "<div>\n",
       "<style scoped>\n",
       "    .dataframe tbody tr th:only-of-type {\n",
       "        vertical-align: middle;\n",
       "    }\n",
       "\n",
       "    .dataframe tbody tr th {\n",
       "        vertical-align: top;\n",
       "    }\n",
       "\n",
       "    .dataframe thead th {\n",
       "        text-align: right;\n",
       "    }\n",
       "</style>\n",
       "<table border=\"1\" class=\"dataframe\">\n",
       "  <thead>\n",
       "    <tr style=\"text-align: right;\">\n",
       "      <th></th>\n",
       "      <th>income</th>\n",
       "      <th>age_1</th>\n",
       "      <th>age_2</th>\n",
       "      <th>age_3</th>\n",
       "      <th>age_4</th>\n",
       "      <th>age_5</th>\n",
       "      <th>age_6</th>\n",
       "      <th>age_nan</th>\n",
       "      <th>workclass_0.0</th>\n",
       "      <th>workclass_1.0</th>\n",
       "      <th>...</th>\n",
       "      <th>native-country_33.0</th>\n",
       "      <th>native-country_34.0</th>\n",
       "      <th>native-country_35.0</th>\n",
       "      <th>native-country_36.0</th>\n",
       "      <th>native-country_37.0</th>\n",
       "      <th>native-country_38.0</th>\n",
       "      <th>native-country_39.0</th>\n",
       "      <th>native-country_40.0</th>\n",
       "      <th>native-country_41.0</th>\n",
       "      <th>native-country_nan</th>\n",
       "    </tr>\n",
       "  </thead>\n",
       "  <tbody>\n",
       "    <tr>\n",
       "      <th>0</th>\n",
       "      <td>0</td>\n",
       "      <td>0</td>\n",
       "      <td>0</td>\n",
       "      <td>0</td>\n",
       "      <td>0</td>\n",
       "      <td>0</td>\n",
       "      <td>0</td>\n",
       "      <td>1</td>\n",
       "      <td>0</td>\n",
       "      <td>0</td>\n",
       "      <td>...</td>\n",
       "      <td>0</td>\n",
       "      <td>0</td>\n",
       "      <td>0</td>\n",
       "      <td>0</td>\n",
       "      <td>0</td>\n",
       "      <td>0</td>\n",
       "      <td>1</td>\n",
       "      <td>0</td>\n",
       "      <td>0</td>\n",
       "      <td>0</td>\n",
       "    </tr>\n",
       "    <tr>\n",
       "      <th>1</th>\n",
       "      <td>0</td>\n",
       "      <td>0</td>\n",
       "      <td>1</td>\n",
       "      <td>0</td>\n",
       "      <td>0</td>\n",
       "      <td>0</td>\n",
       "      <td>0</td>\n",
       "      <td>0</td>\n",
       "      <td>0</td>\n",
       "      <td>0</td>\n",
       "      <td>...</td>\n",
       "      <td>0</td>\n",
       "      <td>0</td>\n",
       "      <td>0</td>\n",
       "      <td>0</td>\n",
       "      <td>0</td>\n",
       "      <td>0</td>\n",
       "      <td>1</td>\n",
       "      <td>0</td>\n",
       "      <td>0</td>\n",
       "      <td>0</td>\n",
       "    </tr>\n",
       "    <tr>\n",
       "      <th>2</th>\n",
       "      <td>1</td>\n",
       "      <td>0</td>\n",
       "      <td>0</td>\n",
       "      <td>0</td>\n",
       "      <td>0</td>\n",
       "      <td>0</td>\n",
       "      <td>0</td>\n",
       "      <td>1</td>\n",
       "      <td>0</td>\n",
       "      <td>0</td>\n",
       "      <td>...</td>\n",
       "      <td>0</td>\n",
       "      <td>0</td>\n",
       "      <td>0</td>\n",
       "      <td>0</td>\n",
       "      <td>0</td>\n",
       "      <td>0</td>\n",
       "      <td>1</td>\n",
       "      <td>0</td>\n",
       "      <td>0</td>\n",
       "      <td>0</td>\n",
       "    </tr>\n",
       "    <tr>\n",
       "      <th>3</th>\n",
       "      <td>1</td>\n",
       "      <td>0</td>\n",
       "      <td>0</td>\n",
       "      <td>0</td>\n",
       "      <td>0</td>\n",
       "      <td>0</td>\n",
       "      <td>0</td>\n",
       "      <td>1</td>\n",
       "      <td>0</td>\n",
       "      <td>0</td>\n",
       "      <td>...</td>\n",
       "      <td>0</td>\n",
       "      <td>0</td>\n",
       "      <td>0</td>\n",
       "      <td>0</td>\n",
       "      <td>0</td>\n",
       "      <td>0</td>\n",
       "      <td>1</td>\n",
       "      <td>0</td>\n",
       "      <td>0</td>\n",
       "      <td>0</td>\n",
       "    </tr>\n",
       "    <tr>\n",
       "      <th>4</th>\n",
       "      <td>0</td>\n",
       "      <td>0</td>\n",
       "      <td>0</td>\n",
       "      <td>0</td>\n",
       "      <td>0</td>\n",
       "      <td>0</td>\n",
       "      <td>0</td>\n",
       "      <td>1</td>\n",
       "      <td>0</td>\n",
       "      <td>0</td>\n",
       "      <td>...</td>\n",
       "      <td>0</td>\n",
       "      <td>0</td>\n",
       "      <td>0</td>\n",
       "      <td>0</td>\n",
       "      <td>0</td>\n",
       "      <td>0</td>\n",
       "      <td>1</td>\n",
       "      <td>0</td>\n",
       "      <td>0</td>\n",
       "      <td>0</td>\n",
       "    </tr>\n",
       "    <tr>\n",
       "      <th>5</th>\n",
       "      <td>0</td>\n",
       "      <td>0</td>\n",
       "      <td>0</td>\n",
       "      <td>0</td>\n",
       "      <td>0</td>\n",
       "      <td>0</td>\n",
       "      <td>0</td>\n",
       "      <td>1</td>\n",
       "      <td>0</td>\n",
       "      <td>0</td>\n",
       "      <td>...</td>\n",
       "      <td>0</td>\n",
       "      <td>0</td>\n",
       "      <td>0</td>\n",
       "      <td>0</td>\n",
       "      <td>0</td>\n",
       "      <td>0</td>\n",
       "      <td>1</td>\n",
       "      <td>0</td>\n",
       "      <td>0</td>\n",
       "      <td>0</td>\n",
       "    </tr>\n",
       "    <tr>\n",
       "      <th>6</th>\n",
       "      <td>0</td>\n",
       "      <td>1</td>\n",
       "      <td>0</td>\n",
       "      <td>0</td>\n",
       "      <td>0</td>\n",
       "      <td>0</td>\n",
       "      <td>0</td>\n",
       "      <td>0</td>\n",
       "      <td>0</td>\n",
       "      <td>0</td>\n",
       "      <td>...</td>\n",
       "      <td>0</td>\n",
       "      <td>0</td>\n",
       "      <td>0</td>\n",
       "      <td>0</td>\n",
       "      <td>0</td>\n",
       "      <td>0</td>\n",
       "      <td>1</td>\n",
       "      <td>0</td>\n",
       "      <td>0</td>\n",
       "      <td>0</td>\n",
       "    </tr>\n",
       "    <tr>\n",
       "      <th>7</th>\n",
       "      <td>1</td>\n",
       "      <td>0</td>\n",
       "      <td>0</td>\n",
       "      <td>0</td>\n",
       "      <td>0</td>\n",
       "      <td>0</td>\n",
       "      <td>0</td>\n",
       "      <td>1</td>\n",
       "      <td>0</td>\n",
       "      <td>0</td>\n",
       "      <td>...</td>\n",
       "      <td>0</td>\n",
       "      <td>0</td>\n",
       "      <td>0</td>\n",
       "      <td>0</td>\n",
       "      <td>0</td>\n",
       "      <td>0</td>\n",
       "      <td>1</td>\n",
       "      <td>0</td>\n",
       "      <td>0</td>\n",
       "      <td>0</td>\n",
       "    </tr>\n",
       "    <tr>\n",
       "      <th>8</th>\n",
       "      <td>0</td>\n",
       "      <td>0</td>\n",
       "      <td>0</td>\n",
       "      <td>0</td>\n",
       "      <td>0</td>\n",
       "      <td>0</td>\n",
       "      <td>0</td>\n",
       "      <td>1</td>\n",
       "      <td>0</td>\n",
       "      <td>0</td>\n",
       "      <td>...</td>\n",
       "      <td>0</td>\n",
       "      <td>0</td>\n",
       "      <td>0</td>\n",
       "      <td>0</td>\n",
       "      <td>0</td>\n",
       "      <td>0</td>\n",
       "      <td>1</td>\n",
       "      <td>0</td>\n",
       "      <td>0</td>\n",
       "      <td>0</td>\n",
       "    </tr>\n",
       "    <tr>\n",
       "      <th>9</th>\n",
       "      <td>0</td>\n",
       "      <td>0</td>\n",
       "      <td>0</td>\n",
       "      <td>0</td>\n",
       "      <td>0</td>\n",
       "      <td>0</td>\n",
       "      <td>0</td>\n",
       "      <td>1</td>\n",
       "      <td>0</td>\n",
       "      <td>0</td>\n",
       "      <td>...</td>\n",
       "      <td>0</td>\n",
       "      <td>0</td>\n",
       "      <td>0</td>\n",
       "      <td>0</td>\n",
       "      <td>0</td>\n",
       "      <td>0</td>\n",
       "      <td>1</td>\n",
       "      <td>0</td>\n",
       "      <td>0</td>\n",
       "      <td>0</td>\n",
       "    </tr>\n",
       "  </tbody>\n",
       "</table>\n",
       "<p>10 rows × 151 columns</p>\n",
       "</div>"
      ],
      "text/plain": [
       "   income  age_1  age_2  age_3  age_4  age_5  age_6  age_nan  workclass_0.0  \\\n",
       "0       0      0      0      0      0      0      0        1              0   \n",
       "1       0      0      1      0      0      0      0        0              0   \n",
       "2       1      0      0      0      0      0      0        1              0   \n",
       "3       1      0      0      0      0      0      0        1              0   \n",
       "4       0      0      0      0      0      0      0        1              0   \n",
       "5       0      0      0      0      0      0      0        1              0   \n",
       "6       0      1      0      0      0      0      0        0              0   \n",
       "7       1      0      0      0      0      0      0        1              0   \n",
       "8       0      0      0      0      0      0      0        1              0   \n",
       "9       0      0      0      0      0      0      0        1              0   \n",
       "\n",
       "   workclass_1.0  ...  native-country_33.0  native-country_34.0  \\\n",
       "0              0  ...                    0                    0   \n",
       "1              0  ...                    0                    0   \n",
       "2              0  ...                    0                    0   \n",
       "3              0  ...                    0                    0   \n",
       "4              0  ...                    0                    0   \n",
       "5              0  ...                    0                    0   \n",
       "6              0  ...                    0                    0   \n",
       "7              0  ...                    0                    0   \n",
       "8              0  ...                    0                    0   \n",
       "9              0  ...                    0                    0   \n",
       "\n",
       "   native-country_35.0  native-country_36.0  native-country_37.0  \\\n",
       "0                    0                    0                    0   \n",
       "1                    0                    0                    0   \n",
       "2                    0                    0                    0   \n",
       "3                    0                    0                    0   \n",
       "4                    0                    0                    0   \n",
       "5                    0                    0                    0   \n",
       "6                    0                    0                    0   \n",
       "7                    0                    0                    0   \n",
       "8                    0                    0                    0   \n",
       "9                    0                    0                    0   \n",
       "\n",
       "   native-country_38.0  native-country_39.0  native-country_40.0  \\\n",
       "0                    0                    1                    0   \n",
       "1                    0                    1                    0   \n",
       "2                    0                    1                    0   \n",
       "3                    0                    1                    0   \n",
       "4                    0                    1                    0   \n",
       "5                    0                    1                    0   \n",
       "6                    0                    1                    0   \n",
       "7                    0                    1                    0   \n",
       "8                    0                    1                    0   \n",
       "9                    0                    1                    0   \n",
       "\n",
       "   native-country_41.0  native-country_nan  \n",
       "0                    0                   0  \n",
       "1                    0                   0  \n",
       "2                    0                   0  \n",
       "3                    0                   0  \n",
       "4                    0                   0  \n",
       "5                    0                   0  \n",
       "6                    0                   0  \n",
       "7                    0                   0  \n",
       "8                    0                   0  \n",
       "9                    0                   0  \n",
       "\n",
       "[10 rows x 151 columns]"
      ]
     },
     "execution_count": 18,
     "metadata": {},
     "output_type": "execute_result"
    }
   ],
   "source": [
    "df_encoded.head(10)"
   ]
  },
  {
   "cell_type": "code",
   "execution_count": 19,
   "id": "862a8709-3cc8-4af3-9b9e-9b53cc2b2694",
   "metadata": {
    "editable": true,
    "slideshow": {
     "slide_type": ""
    },
    "tags": []
   },
   "outputs": [
    {
     "name": "stdout",
     "output_type": "stream",
     "text": [
      "['income', 'age_1', 'age_2', 'age_3', 'age_4', 'age_5', 'age_6', 'age_nan', 'workclass_0.0', 'workclass_1.0', 'workclass_2.0', 'workclass_3.0', 'workclass_4.0', 'workclass_5.0', 'workclass_6.0', 'workclass_7.0', 'workclass_nan', 'fnlwgt_0.0', 'fnlwgt_1.0', 'fnlwgt_2.0', 'fnlwgt_3.0', 'fnlwgt_nan', 'education_0.0', 'education_1.0', 'education_2.0', 'education_3.0', 'education_4.0', 'education_5.0', 'education_6.0', 'education_7.0', 'education_8.0', 'education_9.0', 'education_10.0', 'education_11.0', 'education_12.0', 'education_13.0', 'education_14.0', 'education_15.0', 'education_nan', 'educational-num_1.0', 'educational-num_2.0', 'educational-num_3.0', 'educational-num_4.0', 'educational-num_5.0', 'educational-num_6.0', 'educational-num_7.0', 'educational-num_8.0', 'educational-num_9.0', 'educational-num_10.0', 'educational-num_11.0', 'educational-num_12.0', 'educational-num_13.0', 'educational-num_14.0', 'educational-num_15.0', 'educational-num_16.0', 'educational-num_nan', 'marital-status_0.0', 'marital-status_1.0', 'marital-status_2.0', 'marital-status_3.0', 'marital-status_4.0', 'marital-status_5.0', 'marital-status_6.0', 'marital-status_nan', 'occupation_0.0', 'occupation_1.0', 'occupation_2.0', 'occupation_3.0', 'occupation_4.0', 'occupation_5.0', 'occupation_6.0', 'occupation_7.0', 'occupation_8.0', 'occupation_9.0', 'occupation_10.0', 'occupation_11.0', 'occupation_12.0', 'occupation_13.0', 'occupation_14.0', 'occupation_nan', 'relationship_0.0', 'relationship_1.0', 'relationship_2.0', 'relationship_3.0', 'relationship_4.0', 'relationship_5.0', 'relationship_nan', 'race_0.0', 'race_1.0', 'race_2.0', 'race_3.0', 'race_4.0', 'race_nan', 'gender_0.0', 'gender_1.0', 'gender_nan', 'capital-gain_0.0', 'capital-gain_1.0', 'capital-gain_nan', 'capital-loss_0.0', 'capital-loss_1.0', 'capital-loss_nan', 'hours-per-week_1', 'hours-per-week_2', 'hours-per-week_3', 'hours-per-week_4', 'hours-per-week_5', 'hours-per-week_nan', 'native-country_0.0', 'native-country_1.0', 'native-country_2.0', 'native-country_3.0', 'native-country_4.0', 'native-country_5.0', 'native-country_6.0', 'native-country_7.0', 'native-country_8.0', 'native-country_9.0', 'native-country_10.0', 'native-country_11.0', 'native-country_12.0', 'native-country_13.0', 'native-country_14.0', 'native-country_15.0', 'native-country_16.0', 'native-country_17.0', 'native-country_18.0', 'native-country_19.0', 'native-country_20.0', 'native-country_21.0', 'native-country_22.0', 'native-country_23.0', 'native-country_24.0', 'native-country_25.0', 'native-country_26.0', 'native-country_27.0', 'native-country_28.0', 'native-country_29.0', 'native-country_30.0', 'native-country_31.0', 'native-country_32.0', 'native-country_33.0', 'native-country_34.0', 'native-country_35.0', 'native-country_36.0', 'native-country_37.0', 'native-country_38.0', 'native-country_39.0', 'native-country_40.0', 'native-country_41.0', 'native-country_nan']\n"
     ]
    }
   ],
   "source": [
    "# Get the column names as a list\n",
    "column_list = df_encoded.columns.tolist()\n",
    "\n",
    "# Print the list of column names\n",
    "print(column_list)"
   ]
  },
  {
   "cell_type": "markdown",
   "id": "95495312-dcb8-4ba8-bde3-d6071615c4fe",
   "metadata": {},
   "source": [
    "# Bayesian Statistics and MHA"
   ]
  },
  {
   "cell_type": "code",
   "execution_count": 26,
   "id": "85876a36-5ccd-4a18-b98c-75e2ef85951d",
   "metadata": {
    "editable": true,
    "slideshow": {
     "slide_type": ""
    },
    "tags": []
   },
   "outputs": [],
   "source": [
    "# List of all one-hot encoded variables\n",
    "all_variables = [\n",
    "    ['age_1', 'age_2', 'age_3', 'age_4', 'age_5', 'age_6'], # age\n",
    "    ['workclass_1.0', 'workclass_2.0', 'workclass_4.0', 'workclass_5.0', 'workclass_6.0', 'workclass_7.0'], # workclass\n",
    "    ['fnlwgt_0.0', 'fnlwgt_1.0', 'fnlwgt_2.0', 'fnlwgt_3.0'], # fnlwgt\n",
    "    ['education_0.0', 'education_1.0', 'education_2.0', 'education_3.0', 'education_4.0', 'education_5.0', 'education_6.0', 'education_7.0', 'education_8.0', 'education_9.0', 'education_10.0', 'education_11.0', 'education_12.0', 'education_13.0', 'education_14.0', 'education_15.0'], # education \n",
    "    ['educational-num_2.0', 'educational-num_3.0', 'educational-num_4.0', 'educational-num_5.0', 'educational-num_6.0', 'educational-num_7.0', 'educational-num_8.0', 'educational-num_9.0', 'educational-num_10.0', 'educational-num_11.0', 'educational-num_12.0', 'educational-num_13.0','educational-num_14.0', 'educational-num_15.0', 'educational-num_16.0'], # educational-num\n",
    "    ['marital-status_1.0', 'marital-status_2.0', 'marital-status_3.0', 'marital-status_4.0', 'marital-status_5.0', 'marital-status_6.0'],\n",
    "    ['occupation_1.0', 'occupation_2.0', 'occupation_3.0', 'occupation_4.0', 'occupation_5.0', 'occupation_6.0', 'occupation_7.0', 'occupation_8.0', 'occupation_9.0', 'occupation_10.0', 'occupation_11.0', 'occupation_12.0', 'occupation_13.0', 'occupation_14.0'],\n",
    "    ['relationship_0.0', 'relationship_1.0', 'relationship_2.0', 'relationship_3.0', 'relationship_4.0', 'relationship_5.0'],\n",
    "    ['capital-gain_0.0', 'capital-gain_1.0'],\n",
    "    ['capital-loss_0.0', 'capital-loss_1.0'],\n",
    "    ['hours-per-week_1', 'hours-per-week_2', 'hours-per-week_3', 'hours-per-week_4', 'hours-per-week_5']\n",
    "]"
   ]
  },
  {
   "cell_type": "code",
   "execution_count": 27,
   "id": "3a7f5ce4-4895-44d3-8292-1c48f1c4f98d",
   "metadata": {
    "editable": true,
    "slideshow": {
     "slide_type": ""
    },
    "tags": []
   },
   "outputs": [
    {
     "name": "stderr",
     "output_type": "stream",
     "text": [
      "C:\\Miniconda\\envs\\pymc_env\\lib\\site-packages\\deprecat\\classic.py:215: FutureWarning: In v4.0, pm.sample will return an `arviz.InferenceData` object instead of a `MultiTrace` by default. You can pass return_inferencedata=True or return_inferencedata=False to be safe and silence this warning.\n",
      "  return wrapped_(*args_, **kwargs_)\n",
      "Sequential sampling (2 chains in 1 job)\n",
      "CompoundStep\n",
      ">NUTS: [theta]\n",
      ">Metropolis: [variable]\n"
     ]
    },
    {
     "data": {
      "text/html": [
       "\n",
       "<style>\n",
       "    /* Turns off some styling */\n",
       "    progress {\n",
       "        /* gets rid of default border in Firefox and Opera. */\n",
       "        border: none;\n",
       "        /* Needs to be in here for Safari polyfill so background images work as expected. */\n",
       "        background-size: auto;\n",
       "    }\n",
       "    progress:not([value]), progress:not([value])::-webkit-progress-bar {\n",
       "        background: repeating-linear-gradient(45deg, #7e7e7e, #7e7e7e 10px, #5c5c5c 10px, #5c5c5c 20px);\n",
       "    }\n",
       "    .progress-bar-interrupted, .progress-bar-interrupted::-webkit-progress-bar {\n",
       "        background: #F44336;\n",
       "    }\n",
       "</style>\n"
      ],
      "text/plain": [
       "<IPython.core.display.HTML object>"
      ]
     },
     "metadata": {},
     "output_type": "display_data"
    },
    {
     "data": {
      "text/html": [
       "\n",
       "    <div>\n",
       "      <progress value='6000' class='' max='6000' style='width:300px; height:20px; vertical-align: middle;'></progress>\n",
       "      100.00% [6000/6000 00:14&lt;00:00 Sampling chain 0, 0 divergences]\n",
       "    </div>\n",
       "    "
      ],
      "text/plain": [
       "<IPython.core.display.HTML object>"
      ]
     },
     "metadata": {},
     "output_type": "display_data"
    },
    {
     "data": {
      "text/html": [
       "\n",
       "<style>\n",
       "    /* Turns off some styling */\n",
       "    progress {\n",
       "        /* gets rid of default border in Firefox and Opera. */\n",
       "        border: none;\n",
       "        /* Needs to be in here for Safari polyfill so background images work as expected. */\n",
       "        background-size: auto;\n",
       "    }\n",
       "    progress:not([value]), progress:not([value])::-webkit-progress-bar {\n",
       "        background: repeating-linear-gradient(45deg, #7e7e7e, #7e7e7e 10px, #5c5c5c 10px, #5c5c5c 20px);\n",
       "    }\n",
       "    .progress-bar-interrupted, .progress-bar-interrupted::-webkit-progress-bar {\n",
       "        background: #F44336;\n",
       "    }\n",
       "</style>\n"
      ],
      "text/plain": [
       "<IPython.core.display.HTML object>"
      ]
     },
     "metadata": {},
     "output_type": "display_data"
    },
    {
     "data": {
      "text/html": [
       "\n",
       "    <div>\n",
       "      <progress value='6000' class='' max='6000' style='width:300px; height:20px; vertical-align: middle;'></progress>\n",
       "      100.00% [6000/6000 00:13&lt;00:00 Sampling chain 1, 0 divergences]\n",
       "    </div>\n",
       "    "
      ],
      "text/plain": [
       "<IPython.core.display.HTML object>"
      ]
     },
     "metadata": {},
     "output_type": "display_data"
    },
    {
     "name": "stderr",
     "output_type": "stream",
     "text": [
      "Sampling 2 chains for 1_000 tune and 5_000 draw iterations (2_000 + 10_000 draws total) took 27 seconds.\n",
      "The rhat statistic is larger than 1.05 for some parameters. This indicates slight problems during sampling.\n",
      "The estimated number of effective samples is smaller than 200 for some parameters.\n",
      "C:\\Miniconda\\envs\\pymc_env\\lib\\site-packages\\deprecat\\classic.py:215: FutureWarning: In v4.0, pm.sample will return an `arviz.InferenceData` object instead of a `MultiTrace` by default. You can pass return_inferencedata=True or return_inferencedata=False to be safe and silence this warning.\n",
      "  return wrapped_(*args_, **kwargs_)\n",
      "Sequential sampling (2 chains in 1 job)\n",
      "CompoundStep\n",
      ">NUTS: [theta]\n",
      ">Metropolis: [variable]\n"
     ]
    },
    {
     "data": {
      "text/html": [
       "\n",
       "<style>\n",
       "    /* Turns off some styling */\n",
       "    progress {\n",
       "        /* gets rid of default border in Firefox and Opera. */\n",
       "        border: none;\n",
       "        /* Needs to be in here for Safari polyfill so background images work as expected. */\n",
       "        background-size: auto;\n",
       "    }\n",
       "    progress:not([value]), progress:not([value])::-webkit-progress-bar {\n",
       "        background: repeating-linear-gradient(45deg, #7e7e7e, #7e7e7e 10px, #5c5c5c 10px, #5c5c5c 20px);\n",
       "    }\n",
       "    .progress-bar-interrupted, .progress-bar-interrupted::-webkit-progress-bar {\n",
       "        background: #F44336;\n",
       "    }\n",
       "</style>\n"
      ],
      "text/plain": [
       "<IPython.core.display.HTML object>"
      ]
     },
     "metadata": {},
     "output_type": "display_data"
    },
    {
     "data": {
      "text/html": [
       "\n",
       "    <div>\n",
       "      <progress value='6000' class='' max='6000' style='width:300px; height:20px; vertical-align: middle;'></progress>\n",
       "      100.00% [6000/6000 00:18&lt;00:00 Sampling chain 0, 0 divergences]\n",
       "    </div>\n",
       "    "
      ],
      "text/plain": [
       "<IPython.core.display.HTML object>"
      ]
     },
     "metadata": {},
     "output_type": "display_data"
    },
    {
     "data": {
      "text/html": [
       "\n",
       "<style>\n",
       "    /* Turns off some styling */\n",
       "    progress {\n",
       "        /* gets rid of default border in Firefox and Opera. */\n",
       "        border: none;\n",
       "        /* Needs to be in here for Safari polyfill so background images work as expected. */\n",
       "        background-size: auto;\n",
       "    }\n",
       "    progress:not([value]), progress:not([value])::-webkit-progress-bar {\n",
       "        background: repeating-linear-gradient(45deg, #7e7e7e, #7e7e7e 10px, #5c5c5c 10px, #5c5c5c 20px);\n",
       "    }\n",
       "    .progress-bar-interrupted, .progress-bar-interrupted::-webkit-progress-bar {\n",
       "        background: #F44336;\n",
       "    }\n",
       "</style>\n"
      ],
      "text/plain": [
       "<IPython.core.display.HTML object>"
      ]
     },
     "metadata": {},
     "output_type": "display_data"
    },
    {
     "data": {
      "text/html": [
       "\n",
       "    <div>\n",
       "      <progress value='6000' class='' max='6000' style='width:300px; height:20px; vertical-align: middle;'></progress>\n",
       "      100.00% [6000/6000 00:12&lt;00:00 Sampling chain 1, 0 divergences]\n",
       "    </div>\n",
       "    "
      ],
      "text/plain": [
       "<IPython.core.display.HTML object>"
      ]
     },
     "metadata": {},
     "output_type": "display_data"
    },
    {
     "name": "stderr",
     "output_type": "stream",
     "text": [
      "Sampling 2 chains for 1_000 tune and 5_000 draw iterations (2_000 + 10_000 draws total) took 31 seconds.\n",
      "C:\\Miniconda\\envs\\pymc_env\\lib\\site-packages\\arviz\\stats\\diagnostics.py:561: RuntimeWarning: invalid value encountered in double_scalars\n",
      "  (between_chain_variance / within_chain_variance + num_samples - 1) / (num_samples)\n",
      "The rhat statistic is larger than 1.4 for some parameters. The sampler did not converge.\n",
      "The estimated number of effective samples is smaller than 200 for some parameters.\n",
      "C:\\Miniconda\\envs\\pymc_env\\lib\\site-packages\\deprecat\\classic.py:215: FutureWarning: In v4.0, pm.sample will return an `arviz.InferenceData` object instead of a `MultiTrace` by default. You can pass return_inferencedata=True or return_inferencedata=False to be safe and silence this warning.\n",
      "  return wrapped_(*args_, **kwargs_)\n",
      "Sequential sampling (2 chains in 1 job)\n",
      "CompoundStep\n",
      ">NUTS: [theta]\n",
      ">Metropolis: [variable]\n"
     ]
    },
    {
     "data": {
      "text/html": [
       "\n",
       "<style>\n",
       "    /* Turns off some styling */\n",
       "    progress {\n",
       "        /* gets rid of default border in Firefox and Opera. */\n",
       "        border: none;\n",
       "        /* Needs to be in here for Safari polyfill so background images work as expected. */\n",
       "        background-size: auto;\n",
       "    }\n",
       "    progress:not([value]), progress:not([value])::-webkit-progress-bar {\n",
       "        background: repeating-linear-gradient(45deg, #7e7e7e, #7e7e7e 10px, #5c5c5c 10px, #5c5c5c 20px);\n",
       "    }\n",
       "    .progress-bar-interrupted, .progress-bar-interrupted::-webkit-progress-bar {\n",
       "        background: #F44336;\n",
       "    }\n",
       "</style>\n"
      ],
      "text/plain": [
       "<IPython.core.display.HTML object>"
      ]
     },
     "metadata": {},
     "output_type": "display_data"
    },
    {
     "data": {
      "text/html": [
       "\n",
       "    <div>\n",
       "      <progress value='6000' class='' max='6000' style='width:300px; height:20px; vertical-align: middle;'></progress>\n",
       "      100.00% [6000/6000 00:05&lt;00:00 Sampling chain 0, 0 divergences]\n",
       "    </div>\n",
       "    "
      ],
      "text/plain": [
       "<IPython.core.display.HTML object>"
      ]
     },
     "metadata": {},
     "output_type": "display_data"
    },
    {
     "data": {
      "text/html": [
       "\n",
       "<style>\n",
       "    /* Turns off some styling */\n",
       "    progress {\n",
       "        /* gets rid of default border in Firefox and Opera. */\n",
       "        border: none;\n",
       "        /* Needs to be in here for Safari polyfill so background images work as expected. */\n",
       "        background-size: auto;\n",
       "    }\n",
       "    progress:not([value]), progress:not([value])::-webkit-progress-bar {\n",
       "        background: repeating-linear-gradient(45deg, #7e7e7e, #7e7e7e 10px, #5c5c5c 10px, #5c5c5c 20px);\n",
       "    }\n",
       "    .progress-bar-interrupted, .progress-bar-interrupted::-webkit-progress-bar {\n",
       "        background: #F44336;\n",
       "    }\n",
       "</style>\n"
      ],
      "text/plain": [
       "<IPython.core.display.HTML object>"
      ]
     },
     "metadata": {},
     "output_type": "display_data"
    },
    {
     "data": {
      "text/html": [
       "\n",
       "    <div>\n",
       "      <progress value='6000' class='' max='6000' style='width:300px; height:20px; vertical-align: middle;'></progress>\n",
       "      100.00% [6000/6000 00:06&lt;00:00 Sampling chain 1, 0 divergences]\n",
       "    </div>\n",
       "    "
      ],
      "text/plain": [
       "<IPython.core.display.HTML object>"
      ]
     },
     "metadata": {},
     "output_type": "display_data"
    },
    {
     "name": "stderr",
     "output_type": "stream",
     "text": [
      "Sampling 2 chains for 1_000 tune and 5_000 draw iterations (2_000 + 10_000 draws total) took 12 seconds.\n",
      "The rhat statistic is larger than 1.05 for some parameters. This indicates slight problems during sampling.\n",
      "The estimated number of effective samples is smaller than 200 for some parameters.\n",
      "C:\\Miniconda\\envs\\pymc_env\\lib\\site-packages\\deprecat\\classic.py:215: FutureWarning: In v4.0, pm.sample will return an `arviz.InferenceData` object instead of a `MultiTrace` by default. You can pass return_inferencedata=True or return_inferencedata=False to be safe and silence this warning.\n",
      "  return wrapped_(*args_, **kwargs_)\n",
      "Sequential sampling (2 chains in 1 job)\n",
      "CompoundStep\n",
      ">NUTS: [theta]\n",
      ">Metropolis: [variable]\n"
     ]
    },
    {
     "data": {
      "text/html": [
       "\n",
       "<style>\n",
       "    /* Turns off some styling */\n",
       "    progress {\n",
       "        /* gets rid of default border in Firefox and Opera. */\n",
       "        border: none;\n",
       "        /* Needs to be in here for Safari polyfill so background images work as expected. */\n",
       "        background-size: auto;\n",
       "    }\n",
       "    progress:not([value]), progress:not([value])::-webkit-progress-bar {\n",
       "        background: repeating-linear-gradient(45deg, #7e7e7e, #7e7e7e 10px, #5c5c5c 10px, #5c5c5c 20px);\n",
       "    }\n",
       "    .progress-bar-interrupted, .progress-bar-interrupted::-webkit-progress-bar {\n",
       "        background: #F44336;\n",
       "    }\n",
       "</style>\n"
      ],
      "text/plain": [
       "<IPython.core.display.HTML object>"
      ]
     },
     "metadata": {},
     "output_type": "display_data"
    },
    {
     "data": {
      "text/html": [
       "\n",
       "    <div>\n",
       "      <progress value='6000' class='' max='6000' style='width:300px; height:20px; vertical-align: middle;'></progress>\n",
       "      100.00% [6000/6000 03:10&lt;00:00 Sampling chain 0, 760 divergences]\n",
       "    </div>\n",
       "    "
      ],
      "text/plain": [
       "<IPython.core.display.HTML object>"
      ]
     },
     "metadata": {},
     "output_type": "display_data"
    },
    {
     "data": {
      "text/html": [
       "\n",
       "<style>\n",
       "    /* Turns off some styling */\n",
       "    progress {\n",
       "        /* gets rid of default border in Firefox and Opera. */\n",
       "        border: none;\n",
       "        /* Needs to be in here for Safari polyfill so background images work as expected. */\n",
       "        background-size: auto;\n",
       "    }\n",
       "    progress:not([value]), progress:not([value])::-webkit-progress-bar {\n",
       "        background: repeating-linear-gradient(45deg, #7e7e7e, #7e7e7e 10px, #5c5c5c 10px, #5c5c5c 20px);\n",
       "    }\n",
       "    .progress-bar-interrupted, .progress-bar-interrupted::-webkit-progress-bar {\n",
       "        background: #F44336;\n",
       "    }\n",
       "</style>\n"
      ],
      "text/plain": [
       "<IPython.core.display.HTML object>"
      ]
     },
     "metadata": {},
     "output_type": "display_data"
    },
    {
     "data": {
      "text/html": [
       "\n",
       "    <div>\n",
       "      <progress value='6000' class='' max='6000' style='width:300px; height:20px; vertical-align: middle;'></progress>\n",
       "      100.00% [6000/6000 02:49&lt;00:00 Sampling chain 1, 748 divergences]\n",
       "    </div>\n",
       "    "
      ],
      "text/plain": [
       "<IPython.core.display.HTML object>"
      ]
     },
     "metadata": {},
     "output_type": "display_data"
    },
    {
     "name": "stderr",
     "output_type": "stream",
     "text": [
      "Sampling 2 chains for 1_000 tune and 5_000 draw iterations (2_000 + 10_000 draws total) took 360 seconds.\n",
      "C:\\Miniconda\\envs\\pymc_env\\lib\\site-packages\\arviz\\stats\\diagnostics.py:561: RuntimeWarning: invalid value encountered in double_scalars\n",
      "  (between_chain_variance / within_chain_variance + num_samples - 1) / (num_samples)\n",
      "There were 760 divergences after tuning. Increase `target_accept` or reparameterize.\n",
      "There were 1508 divergences after tuning. Increase `target_accept` or reparameterize.\n",
      "The number of effective samples is smaller than 10% for some parameters.\n",
      "C:\\Miniconda\\envs\\pymc_env\\lib\\site-packages\\deprecat\\classic.py:215: FutureWarning: In v4.0, pm.sample will return an `arviz.InferenceData` object instead of a `MultiTrace` by default. You can pass return_inferencedata=True or return_inferencedata=False to be safe and silence this warning.\n",
      "  return wrapped_(*args_, **kwargs_)\n",
      "Sequential sampling (2 chains in 1 job)\n",
      "CompoundStep\n",
      ">NUTS: [theta]\n",
      ">Metropolis: [variable]\n"
     ]
    },
    {
     "data": {
      "text/html": [
       "\n",
       "<style>\n",
       "    /* Turns off some styling */\n",
       "    progress {\n",
       "        /* gets rid of default border in Firefox and Opera. */\n",
       "        border: none;\n",
       "        /* Needs to be in here for Safari polyfill so background images work as expected. */\n",
       "        background-size: auto;\n",
       "    }\n",
       "    progress:not([value]), progress:not([value])::-webkit-progress-bar {\n",
       "        background: repeating-linear-gradient(45deg, #7e7e7e, #7e7e7e 10px, #5c5c5c 10px, #5c5c5c 20px);\n",
       "    }\n",
       "    .progress-bar-interrupted, .progress-bar-interrupted::-webkit-progress-bar {\n",
       "        background: #F44336;\n",
       "    }\n",
       "</style>\n"
      ],
      "text/plain": [
       "<IPython.core.display.HTML object>"
      ]
     },
     "metadata": {},
     "output_type": "display_data"
    },
    {
     "data": {
      "text/html": [
       "\n",
       "    <div>\n",
       "      <progress value='6000' class='' max='6000' style='width:300px; height:20px; vertical-align: middle;'></progress>\n",
       "      100.00% [6000/6000 00:59&lt;00:00 Sampling chain 0, 23 divergences]\n",
       "    </div>\n",
       "    "
      ],
      "text/plain": [
       "<IPython.core.display.HTML object>"
      ]
     },
     "metadata": {},
     "output_type": "display_data"
    },
    {
     "data": {
      "text/html": [
       "\n",
       "<style>\n",
       "    /* Turns off some styling */\n",
       "    progress {\n",
       "        /* gets rid of default border in Firefox and Opera. */\n",
       "        border: none;\n",
       "        /* Needs to be in here for Safari polyfill so background images work as expected. */\n",
       "        background-size: auto;\n",
       "    }\n",
       "    progress:not([value]), progress:not([value])::-webkit-progress-bar {\n",
       "        background: repeating-linear-gradient(45deg, #7e7e7e, #7e7e7e 10px, #5c5c5c 10px, #5c5c5c 20px);\n",
       "    }\n",
       "    .progress-bar-interrupted, .progress-bar-interrupted::-webkit-progress-bar {\n",
       "        background: #F44336;\n",
       "    }\n",
       "</style>\n"
      ],
      "text/plain": [
       "<IPython.core.display.HTML object>"
      ]
     },
     "metadata": {},
     "output_type": "display_data"
    },
    {
     "data": {
      "text/html": [
       "\n",
       "    <div>\n",
       "      <progress value='6000' class='' max='6000' style='width:300px; height:20px; vertical-align: middle;'></progress>\n",
       "      100.00% [6000/6000 00:27&lt;00:00 Sampling chain 1, 386 divergences]\n",
       "    </div>\n",
       "    "
      ],
      "text/plain": [
       "<IPython.core.display.HTML object>"
      ]
     },
     "metadata": {},
     "output_type": "display_data"
    },
    {
     "name": "stderr",
     "output_type": "stream",
     "text": [
      "Sampling 2 chains for 1_000 tune and 5_000 draw iterations (2_000 + 10_000 draws total) took 87 seconds.\n",
      "C:\\Miniconda\\envs\\pymc_env\\lib\\site-packages\\arviz\\stats\\diagnostics.py:561: RuntimeWarning: invalid value encountered in double_scalars\n",
      "  (between_chain_variance / within_chain_variance + num_samples - 1) / (num_samples)\n",
      "There were 23 divergences after tuning. Increase `target_accept` or reparameterize.\n",
      "There were 409 divergences after tuning. Increase `target_accept` or reparameterize.\n",
      "The number of effective samples is smaller than 10% for some parameters.\n",
      "C:\\Miniconda\\envs\\pymc_env\\lib\\site-packages\\deprecat\\classic.py:215: FutureWarning: In v4.0, pm.sample will return an `arviz.InferenceData` object instead of a `MultiTrace` by default. You can pass return_inferencedata=True or return_inferencedata=False to be safe and silence this warning.\n",
      "  return wrapped_(*args_, **kwargs_)\n",
      "Sequential sampling (2 chains in 1 job)\n",
      "CompoundStep\n",
      ">NUTS: [theta]\n",
      ">Metropolis: [variable]\n"
     ]
    },
    {
     "data": {
      "text/html": [
       "\n",
       "<style>\n",
       "    /* Turns off some styling */\n",
       "    progress {\n",
       "        /* gets rid of default border in Firefox and Opera. */\n",
       "        border: none;\n",
       "        /* Needs to be in here for Safari polyfill so background images work as expected. */\n",
       "        background-size: auto;\n",
       "    }\n",
       "    progress:not([value]), progress:not([value])::-webkit-progress-bar {\n",
       "        background: repeating-linear-gradient(45deg, #7e7e7e, #7e7e7e 10px, #5c5c5c 10px, #5c5c5c 20px);\n",
       "    }\n",
       "    .progress-bar-interrupted, .progress-bar-interrupted::-webkit-progress-bar {\n",
       "        background: #F44336;\n",
       "    }\n",
       "</style>\n"
      ],
      "text/plain": [
       "<IPython.core.display.HTML object>"
      ]
     },
     "metadata": {},
     "output_type": "display_data"
    },
    {
     "data": {
      "text/html": [
       "\n",
       "    <div>\n",
       "      <progress value='6000' class='' max='6000' style='width:300px; height:20px; vertical-align: middle;'></progress>\n",
       "      100.00% [6000/6000 00:29&lt;00:00 Sampling chain 0, 570 divergences]\n",
       "    </div>\n",
       "    "
      ],
      "text/plain": [
       "<IPython.core.display.HTML object>"
      ]
     },
     "metadata": {},
     "output_type": "display_data"
    },
    {
     "data": {
      "text/html": [
       "\n",
       "<style>\n",
       "    /* Turns off some styling */\n",
       "    progress {\n",
       "        /* gets rid of default border in Firefox and Opera. */\n",
       "        border: none;\n",
       "        /* Needs to be in here for Safari polyfill so background images work as expected. */\n",
       "        background-size: auto;\n",
       "    }\n",
       "    progress:not([value]), progress:not([value])::-webkit-progress-bar {\n",
       "        background: repeating-linear-gradient(45deg, #7e7e7e, #7e7e7e 10px, #5c5c5c 10px, #5c5c5c 20px);\n",
       "    }\n",
       "    .progress-bar-interrupted, .progress-bar-interrupted::-webkit-progress-bar {\n",
       "        background: #F44336;\n",
       "    }\n",
       "</style>\n"
      ],
      "text/plain": [
       "<IPython.core.display.HTML object>"
      ]
     },
     "metadata": {},
     "output_type": "display_data"
    },
    {
     "data": {
      "text/html": [
       "\n",
       "    <div>\n",
       "      <progress value='6000' class='' max='6000' style='width:300px; height:20px; vertical-align: middle;'></progress>\n",
       "      100.00% [6000/6000 00:25&lt;00:00 Sampling chain 1, 583 divergences]\n",
       "    </div>\n",
       "    "
      ],
      "text/plain": [
       "<IPython.core.display.HTML object>"
      ]
     },
     "metadata": {},
     "output_type": "display_data"
    },
    {
     "name": "stderr",
     "output_type": "stream",
     "text": [
      "Sampling 2 chains for 1_000 tune and 5_000 draw iterations (2_000 + 10_000 draws total) took 55 seconds.\n",
      "C:\\Miniconda\\envs\\pymc_env\\lib\\site-packages\\arviz\\stats\\diagnostics.py:561: RuntimeWarning: invalid value encountered in double_scalars\n",
      "  (between_chain_variance / within_chain_variance + num_samples - 1) / (num_samples)\n",
      "There were 570 divergences after tuning. Increase `target_accept` or reparameterize.\n",
      "There were 1154 divergences after tuning. Increase `target_accept` or reparameterize.\n",
      "The rhat statistic is larger than 1.2 for some parameters.\n",
      "The estimated number of effective samples is smaller than 200 for some parameters.\n",
      "C:\\Miniconda\\envs\\pymc_env\\lib\\site-packages\\deprecat\\classic.py:215: FutureWarning: In v4.0, pm.sample will return an `arviz.InferenceData` object instead of a `MultiTrace` by default. You can pass return_inferencedata=True or return_inferencedata=False to be safe and silence this warning.\n",
      "  return wrapped_(*args_, **kwargs_)\n",
      "Sequential sampling (2 chains in 1 job)\n",
      "CompoundStep\n",
      ">NUTS: [theta]\n",
      ">Metropolis: [variable]\n"
     ]
    },
    {
     "data": {
      "text/html": [
       "\n",
       "<style>\n",
       "    /* Turns off some styling */\n",
       "    progress {\n",
       "        /* gets rid of default border in Firefox and Opera. */\n",
       "        border: none;\n",
       "        /* Needs to be in here for Safari polyfill so background images work as expected. */\n",
       "        background-size: auto;\n",
       "    }\n",
       "    progress:not([value]), progress:not([value])::-webkit-progress-bar {\n",
       "        background: repeating-linear-gradient(45deg, #7e7e7e, #7e7e7e 10px, #5c5c5c 10px, #5c5c5c 20px);\n",
       "    }\n",
       "    .progress-bar-interrupted, .progress-bar-interrupted::-webkit-progress-bar {\n",
       "        background: #F44336;\n",
       "    }\n",
       "</style>\n"
      ],
      "text/plain": [
       "<IPython.core.display.HTML object>"
      ]
     },
     "metadata": {},
     "output_type": "display_data"
    },
    {
     "data": {
      "text/html": [
       "\n",
       "    <div>\n",
       "      <progress value='6000' class='' max='6000' style='width:300px; height:20px; vertical-align: middle;'></progress>\n",
       "      100.00% [6000/6000 01:32&lt;00:00 Sampling chain 0, 959 divergences]\n",
       "    </div>\n",
       "    "
      ],
      "text/plain": [
       "<IPython.core.display.HTML object>"
      ]
     },
     "metadata": {},
     "output_type": "display_data"
    },
    {
     "data": {
      "text/html": [
       "\n",
       "<style>\n",
       "    /* Turns off some styling */\n",
       "    progress {\n",
       "        /* gets rid of default border in Firefox and Opera. */\n",
       "        border: none;\n",
       "        /* Needs to be in here for Safari polyfill so background images work as expected. */\n",
       "        background-size: auto;\n",
       "    }\n",
       "    progress:not([value]), progress:not([value])::-webkit-progress-bar {\n",
       "        background: repeating-linear-gradient(45deg, #7e7e7e, #7e7e7e 10px, #5c5c5c 10px, #5c5c5c 20px);\n",
       "    }\n",
       "    .progress-bar-interrupted, .progress-bar-interrupted::-webkit-progress-bar {\n",
       "        background: #F44336;\n",
       "    }\n",
       "</style>\n"
      ],
      "text/plain": [
       "<IPython.core.display.HTML object>"
      ]
     },
     "metadata": {},
     "output_type": "display_data"
    },
    {
     "data": {
      "text/html": [
       "\n",
       "    <div>\n",
       "      <progress value='6000' class='' max='6000' style='width:300px; height:20px; vertical-align: middle;'></progress>\n",
       "      100.00% [6000/6000 01:45&lt;00:00 Sampling chain 1, 1,003 divergences]\n",
       "    </div>\n",
       "    "
      ],
      "text/plain": [
       "<IPython.core.display.HTML object>"
      ]
     },
     "metadata": {},
     "output_type": "display_data"
    },
    {
     "name": "stderr",
     "output_type": "stream",
     "text": [
      "Sampling 2 chains for 1_000 tune and 5_000 draw iterations (2_000 + 10_000 draws total) took 198 seconds.\n",
      "C:\\Miniconda\\envs\\pymc_env\\lib\\site-packages\\arviz\\stats\\diagnostics.py:561: RuntimeWarning: invalid value encountered in double_scalars\n",
      "  (between_chain_variance / within_chain_variance + num_samples - 1) / (num_samples)\n",
      "There were 960 divergences after tuning. Increase `target_accept` or reparameterize.\n",
      "There were 1963 divergences after tuning. Increase `target_accept` or reparameterize.\n",
      "The number of effective samples is smaller than 10% for some parameters.\n",
      "C:\\Miniconda\\envs\\pymc_env\\lib\\site-packages\\deprecat\\classic.py:215: FutureWarning: In v4.0, pm.sample will return an `arviz.InferenceData` object instead of a `MultiTrace` by default. You can pass return_inferencedata=True or return_inferencedata=False to be safe and silence this warning.\n",
      "  return wrapped_(*args_, **kwargs_)\n",
      "Sequential sampling (2 chains in 1 job)\n",
      "CompoundStep\n",
      ">NUTS: [theta]\n",
      ">Metropolis: [variable]\n"
     ]
    },
    {
     "data": {
      "text/html": [
       "\n",
       "<style>\n",
       "    /* Turns off some styling */\n",
       "    progress {\n",
       "        /* gets rid of default border in Firefox and Opera. */\n",
       "        border: none;\n",
       "        /* Needs to be in here for Safari polyfill so background images work as expected. */\n",
       "        background-size: auto;\n",
       "    }\n",
       "    progress:not([value]), progress:not([value])::-webkit-progress-bar {\n",
       "        background: repeating-linear-gradient(45deg, #7e7e7e, #7e7e7e 10px, #5c5c5c 10px, #5c5c5c 20px);\n",
       "    }\n",
       "    .progress-bar-interrupted, .progress-bar-interrupted::-webkit-progress-bar {\n",
       "        background: #F44336;\n",
       "    }\n",
       "</style>\n"
      ],
      "text/plain": [
       "<IPython.core.display.HTML object>"
      ]
     },
     "metadata": {},
     "output_type": "display_data"
    },
    {
     "data": {
      "text/html": [
       "\n",
       "    <div>\n",
       "      <progress value='6000' class='' max='6000' style='width:300px; height:20px; vertical-align: middle;'></progress>\n",
       "      100.00% [6000/6000 00:10&lt;00:00 Sampling chain 0, 0 divergences]\n",
       "    </div>\n",
       "    "
      ],
      "text/plain": [
       "<IPython.core.display.HTML object>"
      ]
     },
     "metadata": {},
     "output_type": "display_data"
    },
    {
     "data": {
      "text/html": [
       "\n",
       "<style>\n",
       "    /* Turns off some styling */\n",
       "    progress {\n",
       "        /* gets rid of default border in Firefox and Opera. */\n",
       "        border: none;\n",
       "        /* Needs to be in here for Safari polyfill so background images work as expected. */\n",
       "        background-size: auto;\n",
       "    }\n",
       "    progress:not([value]), progress:not([value])::-webkit-progress-bar {\n",
       "        background: repeating-linear-gradient(45deg, #7e7e7e, #7e7e7e 10px, #5c5c5c 10px, #5c5c5c 20px);\n",
       "    }\n",
       "    .progress-bar-interrupted, .progress-bar-interrupted::-webkit-progress-bar {\n",
       "        background: #F44336;\n",
       "    }\n",
       "</style>\n"
      ],
      "text/plain": [
       "<IPython.core.display.HTML object>"
      ]
     },
     "metadata": {},
     "output_type": "display_data"
    },
    {
     "data": {
      "text/html": [
       "\n",
       "    <div>\n",
       "      <progress value='6000' class='' max='6000' style='width:300px; height:20px; vertical-align: middle;'></progress>\n",
       "      100.00% [6000/6000 00:11&lt;00:00 Sampling chain 1, 0 divergences]\n",
       "    </div>\n",
       "    "
      ],
      "text/plain": [
       "<IPython.core.display.HTML object>"
      ]
     },
     "metadata": {},
     "output_type": "display_data"
    },
    {
     "name": "stderr",
     "output_type": "stream",
     "text": [
      "Sampling 2 chains for 1_000 tune and 5_000 draw iterations (2_000 + 10_000 draws total) took 22 seconds.\n",
      "C:\\Miniconda\\envs\\pymc_env\\lib\\site-packages\\arviz\\stats\\diagnostics.py:561: RuntimeWarning: invalid value encountered in double_scalars\n",
      "  (between_chain_variance / within_chain_variance + num_samples - 1) / (num_samples)\n",
      "The rhat statistic is larger than 1.4 for some parameters. The sampler did not converge.\n",
      "The estimated number of effective samples is smaller than 200 for some parameters.\n",
      "C:\\Miniconda\\envs\\pymc_env\\lib\\site-packages\\deprecat\\classic.py:215: FutureWarning: In v4.0, pm.sample will return an `arviz.InferenceData` object instead of a `MultiTrace` by default. You can pass return_inferencedata=True or return_inferencedata=False to be safe and silence this warning.\n",
      "  return wrapped_(*args_, **kwargs_)\n",
      "Sequential sampling (2 chains in 1 job)\n",
      "CompoundStep\n",
      ">NUTS: [theta]\n",
      ">Metropolis: [variable]\n"
     ]
    },
    {
     "data": {
      "text/html": [
       "\n",
       "<style>\n",
       "    /* Turns off some styling */\n",
       "    progress {\n",
       "        /* gets rid of default border in Firefox and Opera. */\n",
       "        border: none;\n",
       "        /* Needs to be in here for Safari polyfill so background images work as expected. */\n",
       "        background-size: auto;\n",
       "    }\n",
       "    progress:not([value]), progress:not([value])::-webkit-progress-bar {\n",
       "        background: repeating-linear-gradient(45deg, #7e7e7e, #7e7e7e 10px, #5c5c5c 10px, #5c5c5c 20px);\n",
       "    }\n",
       "    .progress-bar-interrupted, .progress-bar-interrupted::-webkit-progress-bar {\n",
       "        background: #F44336;\n",
       "    }\n",
       "</style>\n"
      ],
      "text/plain": [
       "<IPython.core.display.HTML object>"
      ]
     },
     "metadata": {},
     "output_type": "display_data"
    },
    {
     "data": {
      "text/html": [
       "\n",
       "    <div>\n",
       "      <progress value='6000' class='' max='6000' style='width:300px; height:20px; vertical-align: middle;'></progress>\n",
       "      100.00% [6000/6000 00:03&lt;00:00 Sampling chain 0, 0 divergences]\n",
       "    </div>\n",
       "    "
      ],
      "text/plain": [
       "<IPython.core.display.HTML object>"
      ]
     },
     "metadata": {},
     "output_type": "display_data"
    },
    {
     "data": {
      "text/html": [
       "\n",
       "<style>\n",
       "    /* Turns off some styling */\n",
       "    progress {\n",
       "        /* gets rid of default border in Firefox and Opera. */\n",
       "        border: none;\n",
       "        /* Needs to be in here for Safari polyfill so background images work as expected. */\n",
       "        background-size: auto;\n",
       "    }\n",
       "    progress:not([value]), progress:not([value])::-webkit-progress-bar {\n",
       "        background: repeating-linear-gradient(45deg, #7e7e7e, #7e7e7e 10px, #5c5c5c 10px, #5c5c5c 20px);\n",
       "    }\n",
       "    .progress-bar-interrupted, .progress-bar-interrupted::-webkit-progress-bar {\n",
       "        background: #F44336;\n",
       "    }\n",
       "</style>\n"
      ],
      "text/plain": [
       "<IPython.core.display.HTML object>"
      ]
     },
     "metadata": {},
     "output_type": "display_data"
    },
    {
     "data": {
      "text/html": [
       "\n",
       "    <div>\n",
       "      <progress value='6000' class='' max='6000' style='width:300px; height:20px; vertical-align: middle;'></progress>\n",
       "      100.00% [6000/6000 00:03&lt;00:00 Sampling chain 1, 0 divergences]\n",
       "    </div>\n",
       "    "
      ],
      "text/plain": [
       "<IPython.core.display.HTML object>"
      ]
     },
     "metadata": {},
     "output_type": "display_data"
    },
    {
     "name": "stderr",
     "output_type": "stream",
     "text": [
      "Sampling 2 chains for 1_000 tune and 5_000 draw iterations (2_000 + 10_000 draws total) took 7 seconds.\n",
      "The number of effective samples is smaller than 10% for some parameters.\n",
      "C:\\Miniconda\\envs\\pymc_env\\lib\\site-packages\\deprecat\\classic.py:215: FutureWarning: In v4.0, pm.sample will return an `arviz.InferenceData` object instead of a `MultiTrace` by default. You can pass return_inferencedata=True or return_inferencedata=False to be safe and silence this warning.\n",
      "  return wrapped_(*args_, **kwargs_)\n",
      "Sequential sampling (2 chains in 1 job)\n",
      "CompoundStep\n",
      ">NUTS: [theta]\n",
      ">Metropolis: [variable]\n"
     ]
    },
    {
     "data": {
      "text/html": [
       "\n",
       "<style>\n",
       "    /* Turns off some styling */\n",
       "    progress {\n",
       "        /* gets rid of default border in Firefox and Opera. */\n",
       "        border: none;\n",
       "        /* Needs to be in here for Safari polyfill so background images work as expected. */\n",
       "        background-size: auto;\n",
       "    }\n",
       "    progress:not([value]), progress:not([value])::-webkit-progress-bar {\n",
       "        background: repeating-linear-gradient(45deg, #7e7e7e, #7e7e7e 10px, #5c5c5c 10px, #5c5c5c 20px);\n",
       "    }\n",
       "    .progress-bar-interrupted, .progress-bar-interrupted::-webkit-progress-bar {\n",
       "        background: #F44336;\n",
       "    }\n",
       "</style>\n"
      ],
      "text/plain": [
       "<IPython.core.display.HTML object>"
      ]
     },
     "metadata": {},
     "output_type": "display_data"
    },
    {
     "data": {
      "text/html": [
       "\n",
       "    <div>\n",
       "      <progress value='6000' class='' max='6000' style='width:300px; height:20px; vertical-align: middle;'></progress>\n",
       "      100.00% [6000/6000 00:02&lt;00:00 Sampling chain 0, 0 divergences]\n",
       "    </div>\n",
       "    "
      ],
      "text/plain": [
       "<IPython.core.display.HTML object>"
      ]
     },
     "metadata": {},
     "output_type": "display_data"
    },
    {
     "data": {
      "text/html": [
       "\n",
       "<style>\n",
       "    /* Turns off some styling */\n",
       "    progress {\n",
       "        /* gets rid of default border in Firefox and Opera. */\n",
       "        border: none;\n",
       "        /* Needs to be in here for Safari polyfill so background images work as expected. */\n",
       "        background-size: auto;\n",
       "    }\n",
       "    progress:not([value]), progress:not([value])::-webkit-progress-bar {\n",
       "        background: repeating-linear-gradient(45deg, #7e7e7e, #7e7e7e 10px, #5c5c5c 10px, #5c5c5c 20px);\n",
       "    }\n",
       "    .progress-bar-interrupted, .progress-bar-interrupted::-webkit-progress-bar {\n",
       "        background: #F44336;\n",
       "    }\n",
       "</style>\n"
      ],
      "text/plain": [
       "<IPython.core.display.HTML object>"
      ]
     },
     "metadata": {},
     "output_type": "display_data"
    },
    {
     "data": {
      "text/html": [
       "\n",
       "    <div>\n",
       "      <progress value='6000' class='' max='6000' style='width:300px; height:20px; vertical-align: middle;'></progress>\n",
       "      100.00% [6000/6000 00:02&lt;00:00 Sampling chain 1, 0 divergences]\n",
       "    </div>\n",
       "    "
      ],
      "text/plain": [
       "<IPython.core.display.HTML object>"
      ]
     },
     "metadata": {},
     "output_type": "display_data"
    },
    {
     "name": "stderr",
     "output_type": "stream",
     "text": [
      "Sampling 2 chains for 1_000 tune and 5_000 draw iterations (2_000 + 10_000 draws total) took 6 seconds.\n",
      "The number of effective samples is smaller than 10% for some parameters.\n",
      "C:\\Miniconda\\envs\\pymc_env\\lib\\site-packages\\deprecat\\classic.py:215: FutureWarning: In v4.0, pm.sample will return an `arviz.InferenceData` object instead of a `MultiTrace` by default. You can pass return_inferencedata=True or return_inferencedata=False to be safe and silence this warning.\n",
      "  return wrapped_(*args_, **kwargs_)\n",
      "Sequential sampling (2 chains in 1 job)\n",
      "CompoundStep\n",
      ">NUTS: [theta]\n",
      ">Metropolis: [variable]\n"
     ]
    },
    {
     "data": {
      "text/html": [
       "\n",
       "<style>\n",
       "    /* Turns off some styling */\n",
       "    progress {\n",
       "        /* gets rid of default border in Firefox and Opera. */\n",
       "        border: none;\n",
       "        /* Needs to be in here for Safari polyfill so background images work as expected. */\n",
       "        background-size: auto;\n",
       "    }\n",
       "    progress:not([value]), progress:not([value])::-webkit-progress-bar {\n",
       "        background: repeating-linear-gradient(45deg, #7e7e7e, #7e7e7e 10px, #5c5c5c 10px, #5c5c5c 20px);\n",
       "    }\n",
       "    .progress-bar-interrupted, .progress-bar-interrupted::-webkit-progress-bar {\n",
       "        background: #F44336;\n",
       "    }\n",
       "</style>\n"
      ],
      "text/plain": [
       "<IPython.core.display.HTML object>"
      ]
     },
     "metadata": {},
     "output_type": "display_data"
    },
    {
     "data": {
      "text/html": [
       "\n",
       "    <div>\n",
       "      <progress value='6000' class='' max='6000' style='width:300px; height:20px; vertical-align: middle;'></progress>\n",
       "      100.00% [6000/6000 00:09&lt;00:00 Sampling chain 0, 0 divergences]\n",
       "    </div>\n",
       "    "
      ],
      "text/plain": [
       "<IPython.core.display.HTML object>"
      ]
     },
     "metadata": {},
     "output_type": "display_data"
    },
    {
     "data": {
      "text/html": [
       "\n",
       "<style>\n",
       "    /* Turns off some styling */\n",
       "    progress {\n",
       "        /* gets rid of default border in Firefox and Opera. */\n",
       "        border: none;\n",
       "        /* Needs to be in here for Safari polyfill so background images work as expected. */\n",
       "        background-size: auto;\n",
       "    }\n",
       "    progress:not([value]), progress:not([value])::-webkit-progress-bar {\n",
       "        background: repeating-linear-gradient(45deg, #7e7e7e, #7e7e7e 10px, #5c5c5c 10px, #5c5c5c 20px);\n",
       "    }\n",
       "    .progress-bar-interrupted, .progress-bar-interrupted::-webkit-progress-bar {\n",
       "        background: #F44336;\n",
       "    }\n",
       "</style>\n"
      ],
      "text/plain": [
       "<IPython.core.display.HTML object>"
      ]
     },
     "metadata": {},
     "output_type": "display_data"
    },
    {
     "data": {
      "text/html": [
       "\n",
       "    <div>\n",
       "      <progress value='6000' class='' max='6000' style='width:300px; height:20px; vertical-align: middle;'></progress>\n",
       "      100.00% [6000/6000 00:13&lt;00:00 Sampling chain 1, 0 divergences]\n",
       "    </div>\n",
       "    "
      ],
      "text/plain": [
       "<IPython.core.display.HTML object>"
      ]
     },
     "metadata": {},
     "output_type": "display_data"
    },
    {
     "name": "stderr",
     "output_type": "stream",
     "text": [
      "Sampling 2 chains for 1_000 tune and 5_000 draw iterations (2_000 + 10_000 draws total) took 24 seconds.\n",
      "The acceptance probability does not match the target. It is 0.9063808970436261, but should be close to 0.95. Try to increase the number of tuning steps.\n",
      "The rhat statistic is larger than 1.05 for some parameters. This indicates slight problems during sampling.\n",
      "The estimated number of effective samples is smaller than 200 for some parameters.\n"
     ]
    }
   ],
   "source": [
    "# Assuming df_encoded is your DataFrame\n",
    "df_imputed1 = df_encoded.copy()\n",
    "\n",
    "\n",
    "# Create a dictionary to store the calculated probabilities for each variable\n",
    "variable_probs = {}\n",
    "\n",
    "# Loop over all variables\n",
    "for variable_cols in all_variables:\n",
    "    # Create a mask for rows with missing values in any of the current variable's columns\n",
    "    mask = df_imputed1[variable_cols].isnull().any(axis=1)\n",
    "\n",
    "    # Calculate the proportions of each category of the current variable based on the observed data\n",
    "    probs = df_imputed1.loc[~mask, variable_cols].sum() / df_imputed1.loc[~mask, variable_cols].sum().sum()\n",
    "\n",
    "    # Store the calculated proportions in the dictionary\n",
    "    variable_probs[variable_cols[0]] = probs.values\n",
    "\n",
    "        # Generate samples from a Dirichlet distribution using the calculated probabilities\n",
    "    with pm.Model() as model:\n",
    "        theta = pm.Dirichlet('theta', a=probs.values, shape=len(probs))\n",
    "        variable_imputed = pm.Multinomial('variable', n=1, p=theta, shape=len(probs))\n",
    "\n",
    "        step = pm.NUTS(target_accept=0.95)  # Explicitly specify NUTS sampler\n",
    "        trace = pm.sample(5000, tune=1000, step=step, cores=1)\n",
    "\n",
    "    # Calculate the mean of the samples to get the probabilities\n",
    "    mean_probs = trace['variable'].mean(axis=0)\n",
    "\n",
    "    # Create a mask for rows where all 'variable_cols' columns are zero\n",
    "    zero_mask = (df_encoded[variable_cols] == 0).all(axis=1)\n",
    "\n",
    "    # Replace the zeros with the calculated probabilities\n",
    "    df_encoded.loc[zero_mask, variable_cols] = mean_probs"
   ]
  },
  {
   "cell_type": "code",
   "execution_count": 29,
   "id": "7e40c33c-6b1e-4625-b61a-053fe91a02dd",
   "metadata": {
    "editable": true,
    "slideshow": {
     "slide_type": ""
    },
    "tags": []
   },
   "outputs": [
    {
     "name": "stdout",
     "output_type": "stream",
     "text": [
      "['income', 'age_1', 'age_2', 'age_3', 'age_4', 'age_5', 'age_6', 'age_nan', 'workclass_0.0', 'workclass_1.0', 'workclass_2.0', 'workclass_3.0', 'workclass_4.0', 'workclass_5.0', 'workclass_6.0', 'workclass_7.0', 'workclass_nan', 'fnlwgt_0.0', 'fnlwgt_1.0', 'fnlwgt_2.0', 'fnlwgt_3.0', 'fnlwgt_nan', 'education_0.0', 'education_1.0', 'education_2.0', 'education_3.0', 'education_4.0', 'education_5.0', 'education_6.0', 'education_7.0', 'education_8.0', 'education_9.0', 'education_10.0', 'education_11.0', 'education_12.0', 'education_13.0', 'education_14.0', 'education_15.0', 'education_nan', 'educational-num_1.0', 'educational-num_2.0', 'educational-num_3.0', 'educational-num_4.0', 'educational-num_5.0', 'educational-num_6.0', 'educational-num_7.0', 'educational-num_8.0', 'educational-num_9.0', 'educational-num_10.0', 'educational-num_11.0', 'educational-num_12.0', 'educational-num_13.0', 'educational-num_14.0', 'educational-num_15.0', 'educational-num_16.0', 'educational-num_nan', 'marital-status_0.0', 'marital-status_1.0', 'marital-status_2.0', 'marital-status_3.0', 'marital-status_4.0', 'marital-status_5.0', 'marital-status_6.0', 'marital-status_nan', 'occupation_0.0', 'occupation_1.0', 'occupation_2.0', 'occupation_3.0', 'occupation_4.0', 'occupation_5.0', 'occupation_6.0', 'occupation_7.0', 'occupation_8.0', 'occupation_9.0', 'occupation_10.0', 'occupation_11.0', 'occupation_12.0', 'occupation_13.0', 'occupation_14.0', 'occupation_nan', 'relationship_0.0', 'relationship_1.0', 'relationship_2.0', 'relationship_3.0', 'relationship_4.0', 'relationship_5.0', 'relationship_nan', 'race_0.0', 'race_1.0', 'race_2.0', 'race_3.0', 'race_4.0', 'race_nan', 'gender_0.0', 'gender_1.0', 'gender_nan', 'capital-gain_0.0', 'capital-gain_1.0', 'capital-gain_nan', 'capital-loss_0.0', 'capital-loss_1.0', 'capital-loss_nan', 'hours-per-week_1', 'hours-per-week_2', 'hours-per-week_3', 'hours-per-week_4', 'hours-per-week_5', 'hours-per-week_nan', 'native-country_0.0', 'native-country_1.0', 'native-country_2.0', 'native-country_3.0', 'native-country_4.0', 'native-country_5.0', 'native-country_6.0', 'native-country_7.0', 'native-country_8.0', 'native-country_9.0', 'native-country_10.0', 'native-country_11.0', 'native-country_12.0', 'native-country_13.0', 'native-country_14.0', 'native-country_15.0', 'native-country_16.0', 'native-country_17.0', 'native-country_18.0', 'native-country_19.0', 'native-country_20.0', 'native-country_21.0', 'native-country_22.0', 'native-country_23.0', 'native-country_24.0', 'native-country_25.0', 'native-country_26.0', 'native-country_27.0', 'native-country_28.0', 'native-country_29.0', 'native-country_30.0', 'native-country_31.0', 'native-country_32.0', 'native-country_33.0', 'native-country_34.0', 'native-country_35.0', 'native-country_36.0', 'native-country_37.0', 'native-country_38.0', 'native-country_39.0', 'native-country_40.0', 'native-country_41.0', 'native-country_nan']\n"
     ]
    }
   ],
   "source": [
    "# Get the column names as a list\n",
    "column_list = df_encoded.columns.tolist()\n",
    "\n",
    "# Print the list of column names\n",
    "print(column_list)"
   ]
  },
  {
   "cell_type": "code",
   "execution_count": 33,
   "id": "e5cfcc62-fd80-4b0c-8158-0a073dd45340",
   "metadata": {},
   "outputs": [],
   "source": [
    "# List of columns to delete\n",
    "columns_to_delete = ['age_nan', 'workclass_nan', 'fnlwgt_nan', 'education_nan', 'educational-num_nan', \n",
    "                     'marital-status_nan', 'occupation_nan', 'relationship_nan', 'race_nan', 'gender_nan', \n",
    "                     'capital-gain_nan', 'capital-loss_nan', 'hours-per-week_nan', 'native-country_nan']\n",
    "\n",
    "# Delete the columns from the DataFrame\n",
    "df_encoded = df_encoded.drop(columns_to_delete, axis=1)"
   ]
  },
  {
   "cell_type": "markdown",
   "id": "588d050e-608a-4cf3-965e-5192d6a9abae",
   "metadata": {},
   "source": [
    "# Normal decision Tree"
   ]
  },
  {
   "cell_type": "code",
   "execution_count": 36,
   "id": "d031b795-b1a8-43a8-9ea5-b6afa74df239",
   "metadata": {
    "editable": true,
    "slideshow": {
     "slide_type": ""
    },
    "tags": []
   },
   "outputs": [
    {
     "name": "stdout",
     "output_type": "stream",
     "text": [
      "Accuracy: 0.7601596888115467\n",
      "Precision: 0.4669987546699875\n",
      "Recall: 0.16375545851528384\n",
      "F1 Score: 0.2424830261881668\n",
      "ROC AUC Score: 0.6906119375882749\n"
     ]
    }
   ],
   "source": [
    "# Split the data into features (X) and target variable (y)\n",
    "X = df_encoded.drop('income', axis=1)  # Assuming 'income' is the target variable\n",
    "y = df_encoded['income']\n",
    "\n",
    "# Split the data into training and testing sets\n",
    "X_train, X_test, y_train, y_test = train_test_split(X, y, test_size=0.2, random_state=42)\n",
    "\n",
    "# Create a decision tree classifier\n",
    "clf = DecisionTreeClassifier()\n",
    "\n",
    "# Train the classifier on the training data\n",
    "clf.fit(X_train, y_train)\n",
    "\n",
    "# Predict the income for the test set\n",
    "y_pred = clf.predict(X_test)\n",
    "\n",
    "# Calculate the accuracy of the classifier\n",
    "accuracy = accuracy_score(y_test, y_pred)\n",
    "print(\"Accuracy:\", accuracy)\n",
    "\n",
    "# Calculate precision, recall, and F1 score\n",
    "precision = precision_score(y_test, y_pred)\n",
    "recall = recall_score(y_test, y_pred)\n",
    "f1 = f1_score(y_test, y_pred)\n",
    "\n",
    "print(\"Precision:\", precision)\n",
    "print(\"Recall:\", recall)\n",
    "print(\"F1 Score:\", f1)\n",
    "\n",
    "# Calculate ROC AUC score\n",
    "y_pred_prob = clf.predict_proba(X_test)[:, 1]\n",
    "roc_auc = roc_auc_score(y_test, y_pred_prob)\n",
    "print(\"ROC AUC Score:\", roc_auc)"
   ]
  },
  {
   "cell_type": "code",
   "execution_count": 38,
   "id": "f69d11d4-d26a-44ba-84c7-4885a0777e82",
   "metadata": {
    "editable": true,
    "slideshow": {
     "slide_type": ""
    },
    "tags": []
   },
   "outputs": [
    {
     "name": "stderr",
     "output_type": "stream",
     "text": [
      "C:\\Miniconda\\envs\\pymc_env\\lib\\site-packages\\sklearn\\base.py:432: UserWarning: X has feature names, but FuzzyDecisionTreeClassifier was fitted without feature names\n",
      "  warnings.warn(\n"
     ]
    }
   ],
   "source": [
    "from fuzzytree import FuzzyDecisionTreeClassifier\n",
    "\n",
    "# Initialize the fuzzy decision tree classifier\n",
    "clf_fuzz = FuzzyDecisionTreeClassifier().fit(X_train, y_train)\n",
    "\n",
    "# Fit the classifier\n",
    "clf_fuzz = FuzzyDecisionTreeClassifier().fit(X_train, y_train)\n",
    "\n",
    "# Predict on the test set\n",
    "y_pred = clf_fuzz.predict(X_test)"
   ]
  },
  {
   "cell_type": "code",
   "execution_count": 39,
   "id": "97236444-4bb3-419c-b69d-732378cb6b7c",
   "metadata": {
    "editable": true,
    "slideshow": {
     "slide_type": ""
    },
    "tags": []
   },
   "outputs": [
    {
     "name": "stdout",
     "output_type": "stream",
     "text": [
      "Accuracy: 0.7601596888115467\n",
      "Precision: 0.4669987546699875\n",
      "Recall: 0.16375545851528384\n",
      "F1 Score: 0.2424830261881668\n",
      "ROC AUC: 0.6906119375882749\n"
     ]
    }
   ],
   "source": [
    "# Print the evaluation metrics\n",
    "print(f\"Accuracy: {accuracy}\")\n",
    "print(f\"Precision: {precision}\")\n",
    "print(f\"Recall: {recall}\")\n",
    "print(f\"F1 Score: {f1}\")\n",
    "print(f\"ROC AUC: {roc_auc}\")"
   ]
  },
  {
   "cell_type": "code",
   "execution_count": null,
   "id": "6aabe9b7-3d62-4a7a-bc03-4df1ddd09d47",
   "metadata": {},
   "outputs": [],
   "source": []
  }
 ],
 "metadata": {
  "kernelspec": {
   "display_name": "Python 3 (ipykernel)",
   "language": "python",
   "name": "python3"
  },
  "language_info": {
   "codemirror_mode": {
    "name": "ipython",
    "version": 3
   },
   "file_extension": ".py",
   "mimetype": "text/x-python",
   "name": "python",
   "nbconvert_exporter": "python",
   "pygments_lexer": "ipython3",
   "version": "3.9.16"
  }
 },
 "nbformat": 4,
 "nbformat_minor": 5
}
